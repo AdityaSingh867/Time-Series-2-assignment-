{
 "cells": [
  {
   "cell_type": "markdown",
   "id": "83b9ecc2-e790-48f1-b8e7-860b3b5b58b6",
   "metadata": {},
   "source": [
    "Q1. What is meant by time-dependent seasonal components?"
   ]
  },
  {
   "cell_type": "markdown",
   "id": "117b6171-bbf5-4b7f-bcf1-173af6b87850",
   "metadata": {},
   "source": [
    "part of the variations in a time series representing intra-year fluctuations that are more or less stable year after year with respect to timing, direction and magnitude."
   ]
  },
  {
   "cell_type": "markdown",
   "id": "43881fba-9799-4e15-9a30-bc4007fdc2e8",
   "metadata": {},
   "source": [
    "Q2. How can time-dependent seasonal components be identified in time series data?"
   ]
  },
  {
   "cell_type": "markdown",
   "id": "239b08e8-3003-4141-a09a-33c93e347ad0",
   "metadata": {},
   "source": [
    "Seasonality in a time series is a regular pattern of changes that repeats over S time periods, where S defines the number of time periods until the pattern repeats again"
   ]
  },
  {
   "cell_type": "markdown",
   "id": "ec317c47-faf2-4c3b-b296-a8df32866b40",
   "metadata": {},
   "source": [
    "Q3. What are the factors that can influence time-dependent seasonal components?"
   ]
  },
  {
   "cell_type": "markdown",
   "id": "6bf0f4af-6bb7-451e-915b-07b8a854746b",
   "metadata": {},
   "source": [
    "Seasonality may be caused by various factors such as weather, vacation, and holidays "
   ]
  },
  {
   "cell_type": "markdown",
   "id": "b1f96357-cb7d-414a-8358-4f92c52c020f",
   "metadata": {},
   "source": [
    " retail sales data often exhibit strong seasonal patterns due to factors such as holiday shopping and changes in weather."
   ]
  },
  {
   "cell_type": "markdown",
   "id": "c4c04868-26d9-4142-aab8-88d9e2d89038",
   "metadata": {},
   "source": [
    "Q4. How are autoregression models used in time series analysis and forecasting?"
   ]
  },
  {
   "cell_type": "markdown",
   "id": "8cf2ee82-0eb9-48ac-a8db-862df07079a2",
   "metadata": {},
   "source": [
    "uses observations from previous time steps as input to a regression equation to predict the value at the next time step."
   ]
  },
  {
   "cell_type": "markdown",
   "id": "c2567f3b-18f1-4c94-9fbe-a9955c8a564d",
   "metadata": {},
   "source": [
    "Q5. How do you use autoregression models to make predictions for future time points?"
   ]
  },
  {
   "cell_type": "markdown",
   "id": "b33554e5-172a-4011-bc76-5372f38cd318",
   "metadata": {},
   "source": [
    "when there is a correlation between the time series values and their preceding and succeeding values"
   ]
  },
  {
   "cell_type": "markdown",
   "id": "e1ccd48d-e676-46a5-9655-2927aea692f3",
   "metadata": {},
   "source": [
    "Q6. What is a moving average (MA) model and how does it differ from other time series models?"
   ]
  },
  {
   "cell_type": "markdown",
   "id": "fa4f8199-d05a-44e6-a02f-e12f1a83ec30",
   "metadata": {},
   "source": [
    "a time series model that accounts for very short-run autocorrelation."
   ]
  },
  {
   "cell_type": "markdown",
   "id": "e7b2e2b7-5e77-4ec4-bff9-e5db91bcb296",
   "metadata": {},
   "source": [
    "Q7. What is a mixed ARMA model and how does it differ from an AR or MA model?"
   ]
  },
  {
   "cell_type": "markdown",
   "id": "8e94b58a-4d7c-4330-8057-6691adedb4ed",
   "metadata": {},
   "source": [
    "A mixed ARMA model is a combination of an Autoregressive (AR) model and a Moving Average (MA) model. An AR model depends on the lagged values of the data being modeled to make forecasts, while an MA model depends on the errors (residuals) of the previous forecasts made to make current forecasts. A mixed ARMA model takes into account both of these factors when making predictions"
   ]
  }
 ],
 "metadata": {
  "kernelspec": {
   "display_name": "Python 3 (ipykernel)",
   "language": "python",
   "name": "python3"
  },
  "language_info": {
   "codemirror_mode": {
    "name": "ipython",
    "version": 3
   },
   "file_extension": ".py",
   "mimetype": "text/x-python",
   "name": "python",
   "nbconvert_exporter": "python",
   "pygments_lexer": "ipython3",
   "version": "3.10.8"
  }
 },
 "nbformat": 4,
 "nbformat_minor": 5
}
